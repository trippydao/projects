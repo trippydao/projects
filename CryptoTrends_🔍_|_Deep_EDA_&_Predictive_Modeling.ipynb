{
  "metadata": {
    "kernelspec": {
      "language": "python",
      "display_name": "Python 3",
      "name": "python3"
    },
    "language_info": {
      "name": "python",
      "version": "3.11.13",
      "mimetype": "text/x-python",
      "codemirror_mode": {
        "name": "ipython",
        "version": 3
      },
      "pygments_lexer": "ipython3",
      "nbconvert_exporter": "python",
      "file_extension": ".py"
    },
    "kaggle": {
      "accelerator": "gpu",
      "dataSources": [
        {
          "sourceId": 96164,
          "databundleVersionId": 12993472,
          "sourceType": "competition"
        }
      ],
      "dockerImageVersionId": 31089,
      "isInternetEnabled": false,
      "language": "python",
      "sourceType": "notebook",
      "isGpuEnabled": true
    },
    "colab": {
      "name": "CryptoTrends 🔍 | Deep EDA & Predictive Modeling",
      "provenance": [],
      "include_colab_link": true
    }
  },
  "nbformat_minor": 0,
  "nbformat": 4,
  "cells": [
    {
      "cell_type": "markdown",
      "metadata": {
        "id": "view-in-github",
        "colab_type": "text"
      },
      "source": [
        "<a href=\"https://colab.research.google.com/github/trippydao/projects/blob/main/CryptoTrends_%F0%9F%94%8D_%7C_Deep_EDA_%26_Predictive_Modeling.ipynb\" target=\"_parent\"><img src=\"https://colab.research.google.com/assets/colab-badge.svg\" alt=\"Open In Colab\"/></a>"
      ]
    },
    {
      "source": [
        "# IMPORTANT: SOME KAGGLE DATA SOURCES ARE PRIVATE\n",
        "# RUN THIS CELL IN ORDER TO IMPORT YOUR KAGGLE DATA SOURCES.\n",
        "import kagglehub\n",
        "kagglehub.login()\n"
      ],
      "metadata": {
        "id": "64Sjjj3M-DMD"
      },
      "cell_type": "code",
      "outputs": [],
      "execution_count": null
    },
    {
      "source": [
        "# IMPORTANT: RUN THIS CELL IN ORDER TO IMPORT YOUR KAGGLE DATA SOURCES,\n",
        "# THEN FEEL FREE TO DELETE THIS CELL.\n",
        "# NOTE: THIS NOTEBOOK ENVIRONMENT DIFFERS FROM KAGGLE'S PYTHON\n",
        "# ENVIRONMENT SO THERE MAY BE MISSING LIBRARIES USED BY YOUR\n",
        "# NOTEBOOK.\n",
        "\n",
        "drw_crypto_market_prediction_path = kagglehub.competition_download('drw-crypto-market-prediction')\n",
        "\n",
        "print('Data source import complete.')\n"
      ],
      "metadata": {
        "id": "cnbInGje-DMF"
      },
      "cell_type": "code",
      "outputs": [],
      "execution_count": null
    },
    {
      "cell_type": "code",
      "source": [
        "# This Python 3 environment comes with many helpful analytics libraries installed\n",
        "# It is defined by the kaggle/python Docker image: https://github.com/kaggle/docker-python\n",
        "# For example, here's several helpful packages to load\n",
        "\n",
        "import numpy as np # linear algebra\n",
        "import pandas as pd # data processing, CSV file I/O (e.g. pd.read_csv)\n",
        "\n",
        "# Input data files are available in the read-only \"../input/\" directory\n",
        "# For example, running this (by clicking run or pressing Shift+Enter) will list all files under the input directory\n",
        "\n",
        "import os\n",
        "for dirname, _, filenames in os.walk('/kaggle/input'):\n",
        "    for filename in filenames:\n",
        "        print(os.path.join(dirname, filename))\n",
        "\n",
        "# You can write up to 20GB to the current directory (/kaggle/working/) that gets preserved as output when you create a version using \"Save & Run All\"\n",
        "# You can also write temporary files to /kaggle/temp/, but they won't be saved outside of the current session"
      ],
      "metadata": {
        "_uuid": "8f2839f25d086af736a60e9eeb907d3b93b6e0e5",
        "_cell_guid": "b1076dfc-b9ad-4769-8c92-a6c4dae69d19",
        "trusted": true,
        "execution": {
          "iopub.status.busy": "2025-07-12T18:41:27.814175Z",
          "iopub.execute_input": "2025-07-12T18:41:27.8149Z",
          "iopub.status.idle": "2025-07-12T18:41:28.147599Z",
          "shell.execute_reply.started": "2025-07-12T18:41:27.81487Z",
          "shell.execute_reply": "2025-07-12T18:41:28.14693Z"
        },
        "id": "9HRxBd_L-DMF"
      },
      "outputs": [],
      "execution_count": null
    },
    {
      "cell_type": "code",
      "source": [
        "df_train = pd.read_parquet(\"/kaggle/input/drw-crypto-market-prediction/train.parquet\")\n",
        "df_test = pd.read_parquet(\"/kaggle/input/drw-crypto-market-prediction/test.parquet\")"
      ],
      "metadata": {
        "trusted": true,
        "execution": {
          "iopub.status.busy": "2025-07-12T18:41:28.149069Z",
          "iopub.execute_input": "2025-07-12T18:41:28.149394Z",
          "iopub.status.idle": "2025-07-12T18:42:10.209895Z",
          "shell.execute_reply.started": "2025-07-12T18:41:28.149374Z",
          "shell.execute_reply": "2025-07-12T18:42:10.208944Z"
        },
        "id": "sGUdAUvf-DMF"
      },
      "outputs": [],
      "execution_count": null
    },
    {
      "cell_type": "code",
      "source": [
        "submission = pd.read_csv(\"/kaggle/input/drw-crypto-market-prediction/sample_submission.csv\")\n",
        "\n"
      ],
      "metadata": {
        "trusted": true,
        "execution": {
          "iopub.status.busy": "2025-07-12T18:42:10.210841Z",
          "iopub.execute_input": "2025-07-12T18:42:10.211142Z",
          "iopub.status.idle": "2025-07-12T18:42:10.515559Z",
          "shell.execute_reply.started": "2025-07-12T18:42:10.211118Z",
          "shell.execute_reply": "2025-07-12T18:42:10.514693Z"
        },
        "id": "MGr52nNj-DMG"
      },
      "outputs": [],
      "execution_count": null
    },
    {
      "cell_type": "code",
      "source": [
        "df_train.shape"
      ],
      "metadata": {
        "trusted": true,
        "execution": {
          "iopub.status.busy": "2025-07-12T18:42:10.516492Z",
          "iopub.execute_input": "2025-07-12T18:42:10.516713Z",
          "iopub.status.idle": "2025-07-12T18:42:10.522663Z",
          "shell.execute_reply.started": "2025-07-12T18:42:10.516685Z",
          "shell.execute_reply": "2025-07-12T18:42:10.521824Z"
        },
        "id": "4KlNUEG_-DMG"
      },
      "outputs": [],
      "execution_count": null
    },
    {
      "cell_type": "code",
      "source": [
        "df_train.head(5)"
      ],
      "metadata": {
        "trusted": true,
        "execution": {
          "iopub.status.busy": "2025-07-12T18:42:10.524902Z",
          "iopub.execute_input": "2025-07-12T18:42:10.525152Z",
          "iopub.status.idle": "2025-07-12T18:42:10.561234Z",
          "shell.execute_reply.started": "2025-07-12T18:42:10.525131Z",
          "shell.execute_reply": "2025-07-12T18:42:10.560489Z"
        },
        "id": "Gb2OgFF8-DMG"
      },
      "outputs": [],
      "execution_count": null
    },
    {
      "cell_type": "code",
      "source": [
        "df_test.shape"
      ],
      "metadata": {
        "trusted": true,
        "execution": {
          "iopub.status.busy": "2025-07-12T18:42:10.562072Z",
          "iopub.execute_input": "2025-07-12T18:42:10.562597Z",
          "iopub.status.idle": "2025-07-12T18:42:10.567365Z",
          "shell.execute_reply.started": "2025-07-12T18:42:10.562568Z",
          "shell.execute_reply": "2025-07-12T18:42:10.566697Z"
        },
        "id": "kJ98Z4u2-DMG"
      },
      "outputs": [],
      "execution_count": null
    },
    {
      "cell_type": "code",
      "source": [
        "df_test.head()"
      ],
      "metadata": {
        "trusted": true,
        "execution": {
          "iopub.status.busy": "2025-07-12T18:42:10.568146Z",
          "iopub.execute_input": "2025-07-12T18:42:10.568419Z",
          "iopub.status.idle": "2025-07-12T18:42:10.600891Z",
          "shell.execute_reply.started": "2025-07-12T18:42:10.568398Z",
          "shell.execute_reply": "2025-07-12T18:42:10.600032Z"
        },
        "id": "k04GFNKz-DMH"
      },
      "outputs": [],
      "execution_count": null
    },
    {
      "cell_type": "code",
      "source": [
        "print(\"\\nTrain columns and data types:\")\n",
        "print(df_train.dtypes)\n",
        "\n",
        "print(\"\\nTest columns and data types:\")\n",
        "print(df_test.dtypes)"
      ],
      "metadata": {
        "trusted": true,
        "execution": {
          "iopub.status.busy": "2025-07-12T18:42:10.601801Z",
          "iopub.execute_input": "2025-07-12T18:42:10.602086Z",
          "iopub.status.idle": "2025-07-12T18:42:10.620581Z",
          "shell.execute_reply.started": "2025-07-12T18:42:10.602054Z",
          "shell.execute_reply": "2025-07-12T18:42:10.620025Z"
        },
        "id": "OgpxHMCH-DMH"
      },
      "outputs": [],
      "execution_count": null
    },
    {
      "cell_type": "code",
      "source": [
        "#  Check for missing values\n",
        "print(\"\\nMissing values in train data:\")\n",
        "print(df_train.isnull().sum())\n",
        "\n",
        "print(\"\\nMissing values in test data:\")\n",
        "print(df_test.isnull().sum())"
      ],
      "metadata": {
        "trusted": true,
        "execution": {
          "iopub.status.busy": "2025-07-12T18:42:10.621263Z",
          "iopub.execute_input": "2025-07-12T18:42:10.6215Z",
          "iopub.status.idle": "2025-07-12T18:42:13.084575Z",
          "shell.execute_reply.started": "2025-07-12T18:42:10.621475Z",
          "shell.execute_reply": "2025-07-12T18:42:13.083748Z"
        },
        "id": "L7eS5Y66-DMH"
      },
      "outputs": [],
      "execution_count": null
    },
    {
      "cell_type": "code",
      "source": [
        "import warnings\n",
        "warnings.filterwarnings('ignore')\n",
        "\n",
        "\n",
        "# statistics summary\n",
        "print(\"\\nTrain data statistics:\")\n",
        "print(df_train.describe())\n",
        "\n",
        "print(\"\\nTest data statistics:\")\n",
        "print(df_test.describe())"
      ],
      "metadata": {
        "trusted": true,
        "execution": {
          "iopub.status.busy": "2025-07-12T18:42:13.085454Z",
          "iopub.execute_input": "2025-07-12T18:42:13.0857Z",
          "iopub.status.idle": "2025-07-12T18:42:42.48508Z",
          "shell.execute_reply.started": "2025-07-12T18:42:13.085679Z",
          "shell.execute_reply": "2025-07-12T18:42:42.484252Z"
        },
        "id": "OgmBgzb--DMH"
      },
      "outputs": [],
      "execution_count": null
    },
    {
      "cell_type": "markdown",
      "source": [
        "# Univariate Analysis (Feature Distributions)"
      ],
      "metadata": {
        "id": "BtpW5JnL-DMH"
      }
    },
    {
      "cell_type": "code",
      "source": [
        "import matplotlib.pyplot as plt\n",
        "import seaborn as sns"
      ],
      "metadata": {
        "trusted": true,
        "execution": {
          "iopub.status.busy": "2025-07-12T18:42:42.485948Z",
          "iopub.execute_input": "2025-07-12T18:42:42.486246Z",
          "iopub.status.idle": "2025-07-12T18:42:43.064422Z",
          "shell.execute_reply.started": "2025-07-12T18:42:42.486216Z",
          "shell.execute_reply": "2025-07-12T18:42:43.063815Z"
        },
        "id": "1j-bIrdD-DMI"
      },
      "outputs": [],
      "execution_count": null
    },
    {
      "cell_type": "code",
      "source": [
        "public_features = ['bid_qty', 'ask_qty', 'buy_qty', 'sell_qty', 'volume']\n",
        "\n",
        "plt.figure(figsize=(15, 10))\n",
        "for i, feature in enumerate(public_features, 1):\n",
        "    plt.subplot(2, 3, i)\n",
        "    sns.histplot(df_train[feature], bins=50, kde=True)\n",
        "    plt.title(f'Distribution of {feature}')\n",
        "plt.tight_layout()\n",
        "plt.show()\n"
      ],
      "metadata": {
        "trusted": true,
        "execution": {
          "iopub.status.busy": "2025-07-12T18:42:43.065153Z",
          "iopub.execute_input": "2025-07-12T18:42:43.065606Z",
          "iopub.status.idle": "2025-07-12T18:42:54.266674Z",
          "shell.execute_reply.started": "2025-07-12T18:42:43.065586Z",
          "shell.execute_reply": "2025-07-12T18:42:54.265864Z"
        },
        "id": "rT5KCUKM-DMI"
      },
      "outputs": [],
      "execution_count": null
    },
    {
      "cell_type": "code",
      "source": [
        "plt.figure(figsize=(6,4))\n",
        "sns.histplot(df_train['label'], bins=100, kde=True)\n",
        "plt.title('Distribution of Target (label)')\n",
        "plt.show()\n"
      ],
      "metadata": {
        "trusted": true,
        "execution": {
          "iopub.status.busy": "2025-07-12T18:42:54.267575Z",
          "iopub.execute_input": "2025-07-12T18:42:54.267871Z",
          "iopub.status.idle": "2025-07-12T18:42:56.554572Z",
          "shell.execute_reply.started": "2025-07-12T18:42:54.267834Z",
          "shell.execute_reply": "2025-07-12T18:42:56.553815Z"
        },
        "id": "xzG5_N1x-DMI"
      },
      "outputs": [],
      "execution_count": null
    },
    {
      "cell_type": "markdown",
      "source": [
        "# Bivariate Analysis (Feature vs Target)"
      ],
      "metadata": {
        "id": "WqNQ_A4_-DMI"
      }
    },
    {
      "cell_type": "code",
      "source": [
        "plt.figure(figsize=(15, 10))\n",
        "for i, feature in enumerate(public_features, 1):\n",
        "    plt.subplot(2, 3, i)\n",
        "    plt.hexbin(df_train[feature], df_train['label'], gridsize=50, cmap='Blues')\n",
        "    plt.xlabel(feature)\n",
        "    plt.ylabel('label')\n",
        "    plt.title(f'{feature} vs label')\n",
        "plt.tight_layout()\n",
        "plt.show()\n"
      ],
      "metadata": {
        "trusted": true,
        "execution": {
          "iopub.status.busy": "2025-07-12T18:42:56.557722Z",
          "iopub.execute_input": "2025-07-12T18:42:56.55793Z",
          "iopub.status.idle": "2025-07-12T18:42:57.584066Z",
          "shell.execute_reply.started": "2025-07-12T18:42:56.557912Z",
          "shell.execute_reply": "2025-07-12T18:42:57.583199Z"
        },
        "id": "abFKr9Dr-DMI"
      },
      "outputs": [],
      "execution_count": null
    },
    {
      "cell_type": "code",
      "source": [
        "corr_matrix = df_train[public_features + ['label']].corr()\n",
        "plt.figure(figsize=(8,6))\n",
        "sns.heatmap(corr_matrix, annot=True, cmap='coolwarm')\n",
        "plt.title('Correlation Matrix')\n",
        "plt.show()\n"
      ],
      "metadata": {
        "trusted": true,
        "execution": {
          "iopub.status.busy": "2025-07-12T18:42:57.585021Z",
          "iopub.execute_input": "2025-07-12T18:42:57.585269Z",
          "iopub.status.idle": "2025-07-12T18:42:57.882253Z",
          "shell.execute_reply.started": "2025-07-12T18:42:57.58525Z",
          "shell.execute_reply": "2025-07-12T18:42:57.881525Z"
        },
        "id": "hvz7WkDF-DMI"
      },
      "outputs": [],
      "execution_count": null
    },
    {
      "cell_type": "markdown",
      "source": [
        "# Time Series Analysis"
      ],
      "metadata": {
        "id": "mMaTV00z-DMI"
      }
    },
    {
      "cell_type": "code",
      "source": [
        "\n",
        "plt.figure(figsize=(15,5))\n",
        "df_train['label'].plot()\n",
        "plt.title('Target (label) over Time')\n",
        "plt.xlabel('Timestamp')\n",
        "plt.ylabel('label')\n",
        "plt.show()\n"
      ],
      "metadata": {
        "trusted": true,
        "execution": {
          "iopub.status.busy": "2025-07-12T18:42:57.883198Z",
          "iopub.execute_input": "2025-07-12T18:42:57.883512Z",
          "iopub.status.idle": "2025-07-12T18:42:59.198313Z",
          "shell.execute_reply.started": "2025-07-12T18:42:57.883484Z",
          "shell.execute_reply": "2025-07-12T18:42:59.197521Z"
        },
        "id": "2E76CR0g-DMI"
      },
      "outputs": [],
      "execution_count": null
    },
    {
      "cell_type": "code",
      "source": [
        "rolling_window = 60  # e.g., 60 minutes\n",
        "plt.figure(figsize=(15,5))\n",
        "df_train['label'].rolling(window=rolling_window).mean().plot(label='Rolling Mean')\n",
        "df_train['label'].rolling(window=rolling_window).std().plot(label='Rolling Std')\n",
        "plt.legend()\n",
        "plt.title(f'Rolling Mean and Std of label (window={rolling_window})')\n",
        "plt.show()\n"
      ],
      "metadata": {
        "trusted": true,
        "execution": {
          "iopub.status.busy": "2025-07-12T18:42:59.199235Z",
          "iopub.execute_input": "2025-07-12T18:42:59.199445Z",
          "iopub.status.idle": "2025-07-12T18:43:01.856704Z",
          "shell.execute_reply.started": "2025-07-12T18:42:59.199427Z",
          "shell.execute_reply": "2025-07-12T18:43:01.856034Z"
        },
        "id": "K8rvN3Ux-DMI"
      },
      "outputs": [],
      "execution_count": null
    },
    {
      "cell_type": "markdown",
      "source": [
        "# Outlier Detection"
      ],
      "metadata": {
        "id": "tp7Z2QVj-DMI"
      }
    },
    {
      "cell_type": "code",
      "source": [
        "plt.figure(figsize=(15,10))\n",
        "for i, feature in enumerate(public_features, 1):\n",
        "    plt.subplot(2, 3, i)\n",
        "    sns.boxplot(x=df_train[feature])\n",
        "    plt.title(f'Boxplot of {feature}')\n",
        "plt.tight_layout()\n",
        "plt.show()"
      ],
      "metadata": {
        "trusted": true,
        "execution": {
          "iopub.status.busy": "2025-07-12T18:43:01.857695Z",
          "iopub.execute_input": "2025-07-12T18:43:01.858017Z",
          "iopub.status.idle": "2025-07-12T18:43:02.783093Z",
          "shell.execute_reply.started": "2025-07-12T18:43:01.857987Z",
          "shell.execute_reply": "2025-07-12T18:43:02.782248Z"
        },
        "id": "riJSzTK2-DMJ"
      },
      "outputs": [],
      "execution_count": null
    },
    {
      "cell_type": "code",
      "source": [
        "from scipy.stats import zscore\n",
        "\n",
        "z_scores = zscore(df_train['volume'])\n",
        "outliers = df_train[np.abs(z_scores) > 3]\n",
        "print(f\"Number of outliers in volume: {len(outliers)}\")\n"
      ],
      "metadata": {
        "trusted": true,
        "execution": {
          "iopub.status.busy": "2025-07-12T18:43:02.78388Z",
          "iopub.execute_input": "2025-07-12T18:43:02.784123Z",
          "iopub.status.idle": "2025-07-12T18:43:02.922952Z",
          "shell.execute_reply.started": "2025-07-12T18:43:02.784103Z",
          "shell.execute_reply": "2025-07-12T18:43:02.922186Z"
        },
        "id": "WjMnNghR-DMJ"
      },
      "outputs": [],
      "execution_count": null
    },
    {
      "cell_type": "code",
      "source": [
        "import numpy as np\n",
        "from sklearn.preprocessing import RobustScaler\n",
        "\n",
        "# Log-transform volume to reduce skewness\n",
        "df_train['volume_log'] = np.log1p(df_train['volume'])\n",
        "\n",
        "# Create outlier flag based on z-score\n",
        "from scipy.stats import zscore\n",
        "z_scores = zscore(df_train['volume'])\n",
        "df_train['volume_outlier'] = (np.abs(z_scores) > 3).astype(int)\n",
        "\n",
        "# Use RobustScaler for scaling\n",
        "scaler = RobustScaler()\n",
        "df_train['volume_scaled'] = scaler.fit_transform(df_train[['volume']])\n"
      ],
      "metadata": {
        "trusted": true,
        "execution": {
          "iopub.status.busy": "2025-07-12T18:43:02.923931Z",
          "iopub.execute_input": "2025-07-12T18:43:02.92425Z",
          "iopub.status.idle": "2025-07-12T18:43:03.023038Z",
          "shell.execute_reply.started": "2025-07-12T18:43:02.924221Z",
          "shell.execute_reply": "2025-07-12T18:43:03.022399Z"
        },
        "id": "_xpyewPi-DMJ"
      },
      "outputs": [],
      "execution_count": null
    },
    {
      "cell_type": "code",
      "source": [
        "for col in ['bid_qty', 'ask_qty', 'buy_qty', 'sell_qty', 'volume']:\n",
        "    df_train[f'{col}_log'] = np.log1p(df_train[col])"
      ],
      "metadata": {
        "trusted": true,
        "execution": {
          "iopub.status.busy": "2025-07-12T18:43:03.02376Z",
          "iopub.execute_input": "2025-07-12T18:43:03.024209Z",
          "iopub.status.idle": "2025-07-12T18:43:03.04172Z",
          "shell.execute_reply.started": "2025-07-12T18:43:03.024189Z",
          "shell.execute_reply": "2025-07-12T18:43:03.041003Z"
        },
        "id": "O4ueUrHz-DMJ"
      },
      "outputs": [],
      "execution_count": null
    },
    {
      "cell_type": "code",
      "source": [
        "# Scale the log-transformed features:\n",
        "scaler = RobustScaler()\n",
        "for col in ['bid_qty_log', 'ask_qty_log', 'buy_qty_log', 'sell_qty_log', 'volume_log']:\n",
        "    df_train[f'{col}_scaled'] = scaler.fit_transform(df_train[[col]])"
      ],
      "metadata": {
        "trusted": true,
        "execution": {
          "iopub.status.busy": "2025-07-12T18:43:03.042536Z",
          "iopub.execute_input": "2025-07-12T18:43:03.042756Z",
          "iopub.status.idle": "2025-07-12T18:43:03.176483Z",
          "shell.execute_reply.started": "2025-07-12T18:43:03.042731Z",
          "shell.execute_reply": "2025-07-12T18:43:03.175797Z"
        },
        "id": "8NzgXIPZ-DMJ"
      },
      "outputs": [],
      "execution_count": null
    },
    {
      "cell_type": "code",
      "source": [
        "# Log-transform\n",
        "\n",
        "df_test['volume_log'] = np.log1p(df_test['volume'])\n",
        "\n",
        "# Step 2: Create outlier flag (same as before)\n",
        "test_z_scores = (df_test['volume'] - df_train['volume'].mean()) / df_train['volume'].std()\n",
        "df_test['volume_outlier'] = (np.abs(test_z_scores) > 3).astype(int)\n",
        "\n",
        "# Step 3: Apply scaler on the log-transformed volume (volume_log)\n",
        "df_test['volume_scaled'] = scaler.transform(df_test[['volume_log']])\n",
        "\n"
      ],
      "metadata": {
        "trusted": true,
        "execution": {
          "iopub.status.busy": "2025-07-12T18:43:03.177256Z",
          "iopub.execute_input": "2025-07-12T18:43:03.177575Z",
          "iopub.status.idle": "2025-07-12T18:43:03.204515Z",
          "shell.execute_reply.started": "2025-07-12T18:43:03.177547Z",
          "shell.execute_reply": "2025-07-12T18:43:03.203736Z"
        },
        "id": "FdBJ4Qht-DMJ"
      },
      "outputs": [],
      "execution_count": null
    },
    {
      "cell_type": "code",
      "source": [
        "window_sizes = [5, 15, 60]  # Example windows in minutes\n",
        "\n",
        "for feature in ['volume', 'bid_qty', 'ask_qty', 'buy_qty', 'sell_qty']:\n",
        "    for window in window_sizes:\n",
        "        df_train[f'{feature}_rollmean_{window}'] = df_train[feature].rolling(window).mean()\n",
        "        df_train[f'{feature}_rollstd_{window}'] = df_train[feature].rolling(window).std()\n",
        "        df_train[f'{feature}_lag_{window}'] = df_train[feature].shift(window)\n"
      ],
      "metadata": {
        "trusted": true,
        "execution": {
          "iopub.status.busy": "2025-07-12T18:43:03.205316Z",
          "iopub.execute_input": "2025-07-12T18:43:03.205593Z",
          "iopub.status.idle": "2025-07-12T18:43:03.712084Z",
          "shell.execute_reply.started": "2025-07-12T18:43:03.205569Z",
          "shell.execute_reply": "2025-07-12T18:43:03.71125Z"
        },
        "id": "-xBAPIMr-DMJ"
      },
      "outputs": [],
      "execution_count": null
    },
    {
      "cell_type": "code",
      "source": [
        "df_train['label_rollstd_60'] = df_train['label'].rolling(60).std()\n"
      ],
      "metadata": {
        "trusted": true,
        "execution": {
          "iopub.status.busy": "2025-07-12T18:43:03.71294Z",
          "iopub.execute_input": "2025-07-12T18:43:03.71324Z",
          "iopub.status.idle": "2025-07-12T18:43:03.738805Z",
          "shell.execute_reply.started": "2025-07-12T18:43:03.713212Z",
          "shell.execute_reply": "2025-07-12T18:43:03.738014Z"
        },
        "id": "LZp0gcuD-DMJ"
      },
      "outputs": [],
      "execution_count": null
    },
    {
      "cell_type": "code",
      "source": [
        "feature_cols = [col for col in df_train.columns if col not in ['label', 'timestamp', 'ID']]\n",
        "\n",
        "# Filter to columns existing in both train and test\n",
        "feature_cols = [col for col in feature_cols if col in df_test.columns]\n",
        "\n",
        "X = df_train[feature_cols]\n",
        "y = df_train['label']\n",
        "X_test = df_test[feature_cols]\n",
        "\n"
      ],
      "metadata": {
        "trusted": true,
        "execution": {
          "iopub.status.busy": "2025-07-12T18:53:33.11805Z",
          "iopub.execute_input": "2025-07-12T18:53:33.118841Z",
          "iopub.status.idle": "2025-07-12T18:53:35.258876Z",
          "shell.execute_reply.started": "2025-07-12T18:53:33.118816Z",
          "shell.execute_reply": "2025-07-12T18:53:35.258256Z"
        },
        "id": "r2zqfTbX-DMJ"
      },
      "outputs": [],
      "execution_count": null
    },
    {
      "cell_type": "code",
      "source": [
        "split_idx = int(len(df_train) * 0.8)\n",
        "X_train, X_val = X.iloc[:split_idx], X.iloc[split_idx:]\n",
        "y_train, y_val = y.iloc[:split_idx], y.iloc[split_idx:]\n"
      ],
      "metadata": {
        "trusted": true,
        "execution": {
          "iopub.status.busy": "2025-07-12T18:53:38.786091Z",
          "iopub.execute_input": "2025-07-12T18:53:38.786376Z",
          "iopub.status.idle": "2025-07-12T18:53:38.79082Z",
          "shell.execute_reply.started": "2025-07-12T18:53:38.786352Z",
          "shell.execute_reply": "2025-07-12T18:53:38.790037Z"
        },
        "id": "upjj24fb-DMJ"
      },
      "outputs": [],
      "execution_count": null
    },
    {
      "cell_type": "code",
      "source": [
        "import lightgbm as lgb\n",
        "model = lgb.LGBMRegressor()\n",
        "model.fit(X_train, y_train)\n"
      ],
      "metadata": {
        "trusted": true,
        "execution": {
          "iopub.status.busy": "2025-07-12T18:53:41.726734Z",
          "iopub.execute_input": "2025-07-12T18:53:41.727447Z",
          "iopub.status.idle": "2025-07-12T18:55:18.066955Z",
          "shell.execute_reply.started": "2025-07-12T18:53:41.727422Z",
          "shell.execute_reply": "2025-07-12T18:55:18.066239Z"
        },
        "id": "yn1CmFdN-DMJ"
      },
      "outputs": [],
      "execution_count": null
    },
    {
      "cell_type": "code",
      "source": [
        "from scipy.stats import pearsonr\n",
        "y_pred = model.predict(X_val)\n",
        "corr, _ = pearsonr(y_val, y_pred)\n",
        "print(\"Validation Pearson correlation:\", corr)\n"
      ],
      "metadata": {
        "trusted": true,
        "execution": {
          "iopub.status.busy": "2025-07-12T18:58:07.093636Z",
          "iopub.execute_input": "2025-07-12T18:58:07.094846Z",
          "iopub.status.idle": "2025-07-12T18:58:07.931275Z",
          "shell.execute_reply.started": "2025-07-12T18:58:07.094814Z",
          "shell.execute_reply": "2025-07-12T18:58:07.930411Z"
        },
        "id": "3H2rHpA4-DMJ"
      },
      "outputs": [],
      "execution_count": null
    },
    {
      "cell_type": "code",
      "source": [
        "model.fit(X, y)\n"
      ],
      "metadata": {
        "trusted": true,
        "execution": {
          "iopub.status.busy": "2025-07-12T18:58:13.166894Z",
          "iopub.execute_input": "2025-07-12T18:58:13.167219Z",
          "iopub.status.idle": "2025-07-12T19:00:00.584817Z",
          "shell.execute_reply.started": "2025-07-12T18:58:13.167195Z",
          "shell.execute_reply": "2025-07-12T19:00:00.584111Z"
        },
        "id": "4Tc76-n9-DMJ"
      },
      "outputs": [],
      "execution_count": null
    },
    {
      "cell_type": "code",
      "source": [
        "test_preds = model.predict(X_test)\n"
      ],
      "metadata": {
        "trusted": true,
        "execution": {
          "iopub.status.busy": "2025-07-12T19:00:09.764084Z",
          "iopub.execute_input": "2025-07-12T19:00:09.764374Z",
          "iopub.status.idle": "2025-07-12T19:00:15.340469Z",
          "shell.execute_reply.started": "2025-07-12T19:00:09.764353Z",
          "shell.execute_reply": "2025-07-12T19:00:15.339813Z"
        },
        "id": "7pgnexlH-DMJ"
      },
      "outputs": [],
      "execution_count": null
    },
    {
      "cell_type": "markdown",
      "source": [
        "# Submission File"
      ],
      "metadata": {
        "id": "FZZDZRzG-DMJ"
      }
    },
    {
      "cell_type": "code",
      "source": [
        "submission['label'] = test_preds\n",
        "submission.to_csv('submission.csv', index=False)\n"
      ],
      "metadata": {
        "trusted": true,
        "execution": {
          "iopub.status.busy": "2025-07-12T19:00:27.044623Z",
          "iopub.execute_input": "2025-07-12T19:00:27.045254Z",
          "iopub.status.idle": "2025-07-12T19:00:28.809765Z",
          "shell.execute_reply.started": "2025-07-12T19:00:27.045227Z",
          "shell.execute_reply": "2025-07-12T19:00:28.809189Z"
        },
        "id": "1XuueQxi-DMJ"
      },
      "outputs": [],
      "execution_count": null
    },
    {
      "cell_type": "code",
      "source": [],
      "metadata": {
        "trusted": true,
        "id": "2sgGiA5N-DMO"
      },
      "outputs": [],
      "execution_count": null
    }
  ]
}